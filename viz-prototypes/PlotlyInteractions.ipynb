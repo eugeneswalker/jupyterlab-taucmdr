{
 "cells": [
  {
   "cell_type": "code",
   "execution_count": 1,
   "metadata": {},
   "outputs": [],
   "source": [
    "from taucmdr.cf.storage.levels import USER_STORAGE\n",
    "from taucmdr.error import ConfigurationError\n",
    "from taucmdr.model.trial import Trial\n",
    "from ipywidgets import interact\n",
    "import ipywidgets as widgets\n",
    "from IPython.display import display\n",
    "import nbformat\n",
    "import plotly.graph_objs as pgo\n",
    "from tau_profile_parser import TauProfileParser\n",
    "import matplotlib\n",
    "import pandas as pd"
   ]
  },
  {
   "cell_type": "code",
   "execution_count": 2,
   "metadata": {},
   "outputs": [
    {
     "data": {
      "application/vnd.jupyter.widget-view+json": {
       "model_id": "f2d5e3e276ff4cdfb8a74357e75c6ede",
       "version_major": 2,
       "version_minor": 0
      },
      "text/plain": [
       "aW50ZXJhY3RpdmUoY2hpbGRyZW49KERyb3Bkb3duKGRlc2NyaXB0aW9uPXUndHJpYWxfaWQnLCBvcHRpb25zPSgxLCAyLCAzKSwgdmFsdWU9MSksIERyb3Bkb3duKGRlc2NyaXB0aW9uPXUnbWXigKY=\n"
      ]
     },
     "metadata": {},
     "output_type": "display_data"
    },
    {
     "data": {
      "text/plain": [
       "<function __main__.trial_barplot_widget>"
      ]
     },
     "execution_count": 2,
     "metadata": {},
     "output_type": "execute_result"
    }
   ],
   "source": [
    "# TRIAL BAR PLOT\n",
    "\n",
    "def trial_barplot_figure(trial_id, metric):\n",
    "    profile = TauProfileParser.parse('./mpi-profile-example')\n",
    "\n",
    "    mdata = profile.interval_data()[[metric]]\n",
    "    idata = mdata.unstack().sort_values((0, 0, 0), axis = 1, ascending = False).transpose().fillna(0)\n",
    "    df = pd.concat([idata[:100], idata[:100].sum(level = 0).rename({metric: 'MISC'})], copy = False)\n",
    "    indices = [str(i) for i in df.columns.values]\n",
    "\n",
    "    data = [\n",
    "        pgo.Bar(\n",
    "            y = indices[::-1],\n",
    "            x = r.values[::-1],\n",
    "            name = idx[1],\n",
    "            orientation = \"h\",\n",
    "            hoverinfo = \"text\",\n",
    "            text = [ \"<br>\".join([idx[1][i:i+75] for i in range(0, len(idx[1]), 75)])] * len(indices)\n",
    "        ) for idx, r in df.iterrows()]\n",
    "\n",
    "    data[-1]['marker'] = { 'color': '#333333' }\n",
    "\n",
    "    layout = pgo.Layout(\n",
    "        barmode = 'stack',\n",
    "        showlegend = False,\n",
    "        hovermode = 'closest',\n",
    "        margin = pgo.layout.Margin(l = 0, r = 0, b = 0, t = 10))\n",
    "\n",
    "    return pgo.Figure(data = data, layout = layout)\n",
    "\n",
    "def trial_barplot_widget(trial_id, metric):\n",
    "    return trial_barplot_figure(trial_id, metric)\n",
    "\n",
    "trial_selector = widgets.Dropdown(options=[1,2,3], value=1)\n",
    "metric_selector = widgets.Dropdown(options=[\"Exclusive\", \"Inclusive\"], value=\"Exclusive\")\n",
    "interact(trial_barplot_widget, trial_id = trial_selector, metric = metric_selector)"
   ]
  },
  {
   "cell_type": "code",
   "execution_count": 54,
   "metadata": {},
   "outputs": [
    {
     "data": {
      "application/vnd.jupyter.widget-view+json": {
       "model_id": "aa3c0b92697b46be93200cf6aeaffd11",
       "version_major": 2,
       "version_minor": 0
      },
      "text/plain": [
       "aW50ZXJhY3RpdmUoY2hpbGRyZW49KERyb3Bkb3duKGRlc2NyaXB0aW9uPXUndHJpYWxfaWQnLCBvcHRpb25zPSgxLCAyLCAzKSwgdmFsdWU9MSksIERyb3Bkb3duKGRlc2NyaXB0aW9uPXUnbWXigKY=\n"
      ]
     },
     "metadata": {},
     "output_type": "display_data"
    },
    {
     "data": {
      "text/plain": [
       "<function __main__.profile_barplot_widget>"
      ]
     },
     "execution_count": 54,
     "metadata": {},
     "output_type": "execute_result"
    }
   ],
   "source": [
    "# PROFILE BAR PLOT\n",
    "\n",
    "def profile_barplot_figure(trial_id, metric, indices):\n",
    "    profile = TauProfileParser.parse('./mpi-profile-example')\n",
    "    idata = profile.interval_data()\n",
    "    \n",
    "    ds = idata.loc[indices][[metric]].sort_values(metric)\n",
    "    maxval = ds[metric].max()\n",
    "    nrows = ds.shape[0]\n",
    "    \n",
    "    colors_str = \"#1f77b4,#aec7e8,#ff7f0e,#ffbb78,#2ca02c,#98df8a,#d62728,#ff9896,#9467bd,#c5b0d5,#8c564b,#c49c94,#e377c2,#f7b6d2,#7f7f7f,#c7c7c7,#bcbd22,#dbdb8d,#17becf,#9edae5,#7fc97f,#beaed4,#fdc086,#ffff99,#386cb0,#f0027f,#bf5b17,#666666,#1b9e77,#d95f02,#7570b3,#e7298a,#66a61e,#e6ab02,#a6761d,#666666,#fbb4ae,#b3cde3,#ccebc5,#decbe4,#fed9a6,#ffffcc,#e5d8bd,#fddaec,#f2f2f2,#393b79,#5254a3,#6b6ecf,#9c9ede,#637939,#8ca252,#b5cf6b,#cedb9c,#8c6d31,#bd9e39,#e7ba52,#e7cb94,#843c39,#ad494a,#d6616b,#e7969c,#7b4173,#a55194,#ce6dbd,#de9ed6,#8dd3c7,#ffffb3,#bebada,#fb8072,#80b1d3,#fdb462,#b3de69,#fccde5,#d9d9d9,#bc80bd,#ccebc5,#ffed6f,#3182bd,#6baed6,#9ecae1,#c6dbef,#e6550d,#fd8d3c,#fdae6b,#fdd0a2,#31a354,#74c476,#a1d99b,#c7e9c0,#756bb1,#9e9ac8,#bcbddc,#dadaeb,#636363,#969696,#bdbdbd,#d9d9d9\"\n",
    "    colors = colors_str.split(',')\n",
    "\n",
    "    data = [\n",
    "        pgo.Bar(\n",
    "            x = ds[metric],\n",
    "            y = ds.index.values,\n",
    "            orientation = 'h',\n",
    "            marker = dict(color = colors[:nrows]),\n",
    "            text = ds.index.values,\n",
    "            textposition = 'outside'\n",
    "        )]\n",
    "\n",
    "    layout = pgo.Layout(\n",
    "        autosize = True,\n",
    "        height = 25 * nrows,\n",
    "        margin = pgo.layout.Margin(l = 0, r = 0, b = 0, t = 10),\n",
    "        xaxis = dict(range = (maxval * -0.1, maxval * 1.25)))\n",
    "\n",
    "    return pgo.Figure(data = data, layout = layout)\n",
    "\n",
    "def profile_barplot_widget(trial_id, metric, indices):\n",
    "    return profile_barplot_figure(trial_id, metric, indices)\n",
    "\n",
    "trial_selector = widgets.Dropdown(options = [1, 2, 3], value = 1)\n",
    "metric_selector = widgets.Dropdown(options = [\"Exclusive\", \"Inclusive\"], value = \"Exclusive\")\n",
    "indices_selector = widgets.Dropdown(options = [(0, 0, 0), (1, 0, 0)], value = (0, 0, 0))\n",
    "interact(profile_barplot_widget, trial_id = trial_selector, metric = metric_selector, indices = indices_selector)"
   ]
  },
  {
   "cell_type": "code",
   "execution_count": 56,
   "metadata": {},
   "outputs": [
    {
     "data": {
      "application/vnd.jupyter.widget-view+json": {
       "model_id": "aa0641c31aba4124b5d2e8ee85d7c715",
       "version_major": 2,
       "version_minor": 0
      },
      "text/plain": [
       "aW50ZXJhY3RpdmUoY2hpbGRyZW49KFNlbGVjdE11bHRpcGxlKGRlc2NyaXB0aW9uPXUndHJpYWxzJywgaW5kZXg9KDIsIDMsIDQpLCBvcHRpb25zPSgwLCAxLCAyLCAzLCA0KSwgdmFsdWU9KDLigKY=\n"
      ]
     },
     "metadata": {},
     "output_type": "display_data"
    },
    {
     "data": {
      "text/plain": [
       "<function __main__.runtime_breakdownplot_widget>"
      ]
     },
     "execution_count": 56,
     "metadata": {},
     "output_type": "execute_result"
    }
   ],
   "source": [
    "# RUNTIME BREAKDOWN\n",
    "\n",
    "def runtime_breakdownplot_figure(trials, metric, topn):\n",
    "    dfs = []\n",
    "    for id in trials:\n",
    "        df = TauProfileParser.parse('.tau/mpi-examples/ring-sample/{}'.format(id))\n",
    "        df = df.interval_data().reset_index()\n",
    "        df['Ranks'] = [df[\"Node\"].nunique()] * df[\"Node\"].shape[0]\n",
    "        df[\"Timer\"] = df[\"Timer\"].apply(lambda x: x.strip())\n",
    "        timer_total = df[metric].sum()\n",
    "        df[\"Normed_Metric\"] = df[metric].apply(lambda x: round(float(x) / timer_total, 6))\n",
    "        df = df.groupby([\"Ranks\", \"Timer\"])[\"Normed_Metric\"].sum().drop(columns=[\"index\"]).reset_index()\n",
    "        dfs.append(df)\n",
    "\n",
    "    mdfs = pd.concat(dfs)\n",
    "\n",
    "    rank_vals = mdfs[\"Ranks\"].unique()\n",
    "    rank_max = mdfs[\"Ranks\"].max()\n",
    "    topn_timers = mdfs[mdfs[\"Ranks\"] == rank_max].sort_values(\"Normed_Metric\", ascending=False)[:topn][\"Timer\"]\n",
    "\n",
    "    mdfs = mdfs[mdfs[\"Timer\"].isin(topn_timers)]\n",
    "\n",
    "    for rank in rank_vals:\n",
    "        normsum = mdfs[mdfs[\"Ranks\"] == rank][\"Normed_Metric\"].sum()\n",
    "        remsum = 1 - normsum\n",
    "        mdfs = mdfs.append({\"Ranks\": rank, \"Timer\": \"Misc\", \"Normed_Metric\": remsum}, ignore_index=True)\n",
    "\n",
    "    mdfs = mdfs.pivot(index='Timer', columns='Ranks', values='Normed_Metric')\n",
    "    mdfs = mdfs.sort_values(rank_max, ascending=False)\n",
    "\n",
    "    ranks = list(mdfs.columns)\n",
    "    times = mdfs.values.tolist()\n",
    "    timers = mdfs.index.values\n",
    "\n",
    "    colors_str = \"#1f77b4,#aec7e8,#ff7f0e,#ffbb78,#2ca02c,#98df8a,#d62728,#ff9896,#9467bd,#c5b0d5,#8c564b,#c49c94,#e377c2,#f7b6d2,#7f7f7f,#c7c7c7,#bcbd22,#dbdb8d,#17becf,#9edae5,#7fc97f,#beaed4,#fdc086,#ffff99,#386cb0,#f0027f,#bf5b17,#666666,#1b9e77,#d95f02,#7570b3,#e7298a,#66a61e,#e6ab02,#a6761d,#666666,#fbb4ae,#b3cde3,#ccebc5,#decbe4,#fed9a6,#ffffcc,#e5d8bd,#fddaec,#f2f2f2,#393b79,#5254a3,#6b6ecf,#9c9ede,#637939,#8ca252,#b5cf6b,#cedb9c,#8c6d31,#bd9e39,#e7ba52,#e7cb94,#843c39,#ad494a,#d6616b,#e7969c,#7b4173,#a55194,#ce6dbd,#de9ed6,#8dd3c7,#ffffb3,#bebada,#fb8072,#80b1d3,#fdb462,#b3de69,#fccde5,#d9d9d9,#bc80bd,#ccebc5,#ffed6f,#3182bd,#6baed6,#9ecae1,#c6dbef,#e6550d,#fd8d3c,#fdae6b,#fdd0a2,#31a354,#74c476,#a1d99b,#c7e9c0,#756bb1,#9e9ac8,#bcbddc,#dadaeb,#636363,#969696,#bdbdbd,#d9d9d9\"\n",
    "    colors = colors_str.split(',')\n",
    "\n",
    "    data = []\n",
    "    for i, time_vals in enumerate(times):\n",
    "        data.append(pgo.Scatter(\n",
    "            x = rank_vals,\n",
    "            y = time_vals,\n",
    "            mode = 'lines',\n",
    "            line = dict(width = 0.5, color = colors[i]),\n",
    "            stackgroup = 'one',\n",
    "            name = timers[i][:75],\n",
    "            text = timers[i][:75],\n",
    "            hoverinfo = 'text',\n",
    "            groupnorm = 'percent'\n",
    "        ))\n",
    "\n",
    "    layout = pgo.Layout(\n",
    "        hovermode = 'closest',\n",
    "        showlegend = False,\n",
    "        xaxis_type = 'category',\n",
    "        yaxis = dict(\n",
    "            type = 'linear',\n",
    "            range = [1, 100],\n",
    "            ticksuffix='%'))\n",
    "\n",
    "    fig = pgo.Figure(data = data, layout = layout)\n",
    "    return fig\n",
    "\n",
    "def runtime_breakdownplot_widget(trials, metric, topn):\n",
    "    return runtime_breakdownplot_figure(trials, metric, topn)\n",
    "\n",
    "trial_selector = widgets.SelectMultiple(options = [0, 1, 2, 3, 4], value = [2, 3, 4])\n",
    "metric_selector = widgets.Dropdown(options = [\"Exclusive\", \"Inclusive\"], value = \"Exclusive\")\n",
    "topn_selector = widgets.BoundedIntText(min = 1, max = 200, value = 25)\n",
    "interact(runtime_breakdownplot_widget, trials = trial_selector, metric = metric_selector, topn = topn_selector)"
   ]
  },
  {
   "cell_type": "code",
   "execution_count": 62,
   "metadata": {},
   "outputs": [
    {
     "data": {
      "application/vnd.jupyter.widget-view+json": {
       "model_id": "4029d88013104cd9913cd37c93cec34a",
       "version_major": 2,
       "version_minor": 0
      },
      "text/plain": [
       "aW50ZXJhY3RpdmUoY2hpbGRyZW49KFNlbGVjdE11bHRpcGxlKGRlc2NyaXB0aW9uPXUndHJpYWxzJywgaW5kZXg9KDIsIDMsIDQpLCBvcHRpb25zPSgwLCAxLCAyLCAzLCA0KSwgdmFsdWU9KDLigKY=\n"
      ]
     },
     "metadata": {},
     "output_type": "display_data"
    },
    {
     "data": {
      "text/plain": [
       "<function __main__.function_histogram_widget>"
      ]
     },
     "execution_count": 62,
     "metadata": {},
     "output_type": "execute_result"
    }
   ],
   "source": [
    "# FUNCTION HISTOGRAM\n",
    "\n",
    "import re\n",
    "import plotly.express as px\n",
    "trial_ids = [0, 1, 2, 3, 4]\n",
    "timers = []\n",
    "p = re.compile(\"\\[.*\\] (.*) \\[.*\\]\")\n",
    "for id in trial_ids:\n",
    "    df = TauProfileParser.parse('.tau/mpi-examples/ring-sample/{}'.format(id))\n",
    "    df = df.interval_data().reset_index()\n",
    "    timers += [x for x in list(df[\"Timer\"]) if \"=>\" not in x]\n",
    "\n",
    "timers = list(set(timers))\n",
    "timers = [t.strip() for t in timers if 'CONTEXT' not in t and 'SAMPLE' not in t]\n",
    "\n",
    "def function_histogram_figure(trials, metric, timer, nbins):\n",
    "    dfs = []\n",
    "    for id in trials:\n",
    "        df = TauProfileParser.parse('.tau/mpi-examples/ring-sample/{}'.format(id))\n",
    "        df = df.interval_data().reset_index()\n",
    "        dfs.append(df)\n",
    "    \n",
    "    df = pd.concat(dfs)\n",
    "    df[\"Timer\"] = df[\"Timer\"].apply(lambda x: x.strip())\n",
    "    df = df[df[\"Timer\"] == timer][metric].reset_index().drop(columns=[\"index\"])\n",
    "    fig = px.histogram(df, x = metric, nbins = nbins)\n",
    "    fig.update_layout(\n",
    "        title_text = timer,\n",
    "        title_x = 0.5,\n",
    "        yaxis_title_text = \"# Threads\",\n",
    "        bargap = 0.2)\n",
    "    \n",
    "    return fig\n",
    "\n",
    "def function_histogram_widget(trials, metric, timer, nbins):\n",
    "    return function_histogram_figure(trials, metric, timer, nbins)\n",
    "\n",
    "trial_selector = widgets.SelectMultiple(options = trial_ids, value = [2, 3, 4])\n",
    "metric_selector = widgets.Dropdown(options = [\"Exclusive\", \"Inclusive\"], value = \"Exclusive\")\n",
    "timer_selector = widgets.Dropdown(options = timers, value = timers[0])\n",
    "nbins_selector = widgets.BoundedIntText(min = 3, max = 30, value = 5)\n",
    "\n",
    "interact(function_histogram_widget, trials = trial_selector, metric = metric_selector, timer = timer_selector, nbins = nbins_selector)"
   ]
  },
  {
   "cell_type": "code",
   "execution_count": null,
   "metadata": {},
   "outputs": [],
   "source": []
  }
 ],
 "metadata": {
  "kernelspec": {
   "display_name": "Python 2",
   "language": "python",
   "name": "python2"
  },
  "language_info": {
   "codemirror_mode": {
    "name": "ipython",
    "version": 2
   },
   "file_extension": ".py",
   "mimetype": "text/x-python",
   "name": "python",
   "nbconvert_exporter": "python",
   "pygments_lexer": "ipython2",
   "version": "2.7.18"
  }
 },
 "nbformat": 4,
 "nbformat_minor": 4
}

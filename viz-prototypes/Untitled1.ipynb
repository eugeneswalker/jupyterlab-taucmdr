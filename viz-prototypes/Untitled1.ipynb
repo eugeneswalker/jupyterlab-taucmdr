{
 "cells": [
  {
   "cell_type": "code",
   "execution_count": 4,
   "metadata": {},
   "outputs": [
    {
     "data": {
      "application/vnd.jupyter.widget-view+json": {
       "model_id": "4ba60a0315684c0a9a73de0995591bf0",
       "version_major": 2,
       "version_minor": 0
      },
      "text/plain": [
       "Canvas(toolbar=Toolbar(toolitems=[('Home', 'Reset original view', 'home', 'home'), ('Back', 'Back to previous …"
      ]
     },
     "metadata": {},
     "output_type": "display_data"
    }
   ],
   "source": [
    "%matplotlib widget\n",
    "\n",
    "import mplcursors\n",
    "import numpy as np\n",
    "import matplotlib.pyplot as plt\n",
    "\n",
    "# setup the figure and axes\n",
    "fig = plt.figure(figsize=(8, 3))\n",
    "ax1 = fig.add_subplot(111, projection='3d')\n",
    "\n",
    "# fake data\n",
    "x = np.arange(50)\n",
    "y = np.arange(50)\n",
    "z = np.zeros(50)\n",
    "\n",
    "dx = np.ones(50)\n",
    "dy = np.ones(50)\n",
    "dz = list(range(50))\n",
    "\n",
    "\n",
    "ax1.bar3d(x, y, z, dx, dy, dz, shade=True)\n",
    "ax1.set_title('Shaded')\n",
    "\n",
    "mplcursors.cursor(hover=True)\n",
    "\n",
    "plt.show()\n"
   ]
  },
  {
   "cell_type": "code",
   "execution_count": 3,
   "metadata": {},
   "outputs": [
    {
     "data": {
      "application/vnd.jupyter.widget-view+json": {
       "model_id": "4862dca8d5b344f082d47bc8bbe0ee09",
       "version_major": 2,
       "version_minor": 0
      },
      "text/plain": [
       "Canvas(toolbar=Toolbar(toolitems=[('Home', 'Reset original view', 'home', 'home'), ('Back', 'Back to previous …"
      ]
     },
     "metadata": {},
     "output_type": "display_data"
    }
   ],
   "source": [
    "import matplotlib.pyplot as plt, numpy as np\n",
    "from mpl_toolkits.mplot3d import proj3d\n",
    "\n",
    "def visualize3DData (X,scale,cmap):\n",
    "    \"\"\"Visualize data in 3d plot with popover next to mouse position.\n",
    "\n",
    "    Args:\n",
    "        X (np.array) - array of points, of shape (numPoints, 3)\n",
    "    Returns:\n",
    "        None\n",
    "    \"\"\"\n",
    "    fig = plt.figure(figsize = (16,10))\n",
    "    ax = fig.add_subplot(111, projection = '3d')\n",
    "    im= ax.scatter(X[:, 0], X[:, 1], X[:, 2], c= X[:, 3], s= X[:, 4]*scale, cmap=cmap, alpha=1, picker = True)\n",
    "\n",
    "    ax.set_xlabel('OBJECTIVE 1')\n",
    "    ax.set_ylabel('OBJECTIVE 2')\n",
    "    ax.set_zlabel('OBJECTIVE 3')\n",
    "\n",
    "    cbar= fig.colorbar(im)\n",
    "    cbar.ax.set_ylabel('OBJECTIVE 4')\n",
    "\n",
    "    objs=X[:,4]\n",
    "    \n",
    "    max_size=np.amax(objs)*scale/32.0\n",
    "    min_size=np.amin(objs)*scale/4.5\n",
    "    handles, labels = ax.get_legend_handles_labels()\n",
    "    display = (0,1,2)\n",
    "\n",
    "    size_max = plt.Line2D((0,1),(0,0), color='k', marker='o', markersize=max_size,linestyle='')\n",
    "    size_min = plt.Line2D((0,1),(0,0), color='k', marker='o', markersize=min_size,linestyle='')\n",
    "    legend1= ax.legend([handle for i,handle in enumerate(handles) if i in display]+[size_max,size_min],\n",
    "           [label for i,label in enumerate(labels) if i in display]+[\"%.2f\"%(np.amax(objs)), \"%.2f\"%(np.amin(objs))], labelspacing=1.5, title='OBJECTIVE 5', loc=1, frameon=True, numpoints=1, markerscale=1)\n",
    "\n",
    "\n",
    "    def distance(point, event):\n",
    "        \"\"\"Return distance between mouse position and given data point\n",
    "\n",
    "        Args:\n",
    "            point (np.array): np.array of shape (3,), with x,y,z in data coords\n",
    "            event (MouseEvent): mouse event (which contains mouse position in .x and .xdata)\n",
    "        Returns:\n",
    "            distance (np.float64): distance (in screen coords) between mouse pos and data point\n",
    "        \"\"\"\n",
    "        assert point.shape == (3,), \"distance: point.shape is wrong: %s, must be (3,)\" % point.shape\n",
    "\n",
    "        # Project 3d data space to 2d data space\n",
    "        x2, y2, _ = proj3d.proj_transform(point[0], point[1], point[2], plt.gca().get_proj())\n",
    "        # Convert 2d data space to 2d screen space\n",
    "        x3, y3 = ax.transData.transform((x2, y2))\n",
    "\n",
    "        return np.sqrt ((x3 - event.x)**2 + (y3 - event.y)**2)\n",
    "\n",
    "\n",
    "    def calcClosestDatapoint(X, event):\n",
    "        \"\"\"\"Calculate which data point is closest to the mouse position.\n",
    "\n",
    "        Args:\n",
    "            X (np.array) - array of points, of shape (numPoints, 3)\n",
    "            event (MouseEvent) - mouse event (containing mouse position)\n",
    "        Returns:\n",
    "            smallestIndex (int) - the index (into the array of points X) of the element closest to the mouse position\n",
    "        \"\"\"\n",
    "        distances = [distance (X[i, 0:3], event) for i in range(X.shape[0])]\n",
    "        return np.argmin(distances)\n",
    "\n",
    "\n",
    "    def annotatePlot(X, index):\n",
    "        \"\"\"Create popover label in 3d chart\n",
    "\n",
    "        Args:\n",
    "            X (np.array) - array of points, of shape (numPoints, 3)\n",
    "            index (int) - index (into points array X) of item which should be printed\n",
    "        Returns:\n",
    "            None\n",
    "        \"\"\"\n",
    "        # If we have previously displayed another label, remove it first\n",
    "        if hasattr(annotatePlot, 'label'):\n",
    "            annotatePlot.label.remove()\n",
    "        # Get data point from array of points X, at position index\n",
    "        x2, y2,_ = proj3d.proj_transform(X[index, 0], X[index, 1], X[index, 2], ax.get_proj())\n",
    "        annotatePlot.label = plt.annotate(\"index: %d\" % index,\n",
    "            xy = (x2, y2), xytext = (-20,20), textcoords = 'offset points', ha = 'right', va = 'bottom',\n",
    "            bbox = dict(boxstyle = 'round,pad=0.5', fc = 'yellow', alpha = 0.5),\n",
    "            arrowprops = dict(arrowstyle = '->', connectionstyle = 'arc3,rad=0'))\n",
    "        fig.canvas.draw()\n",
    "\n",
    "\n",
    "    def onMouseMotion(event):\n",
    "        \"\"\"Event that is triggered when mouse is moved. Shows text annotation over data point closest to mouse.\"\"\"\n",
    "        closestIndex = calcClosestDatapoint(X, event)\n",
    "        annotatePlot (X, closestIndex)\n",
    "\n",
    "    fig.canvas.mpl_connect('motion_notify_event', onMouseMotion)  # on mouse motion\n",
    "    plt.show()\n",
    "\n",
    "\n",
    "import seaborn\n",
    "#X=np.loadtxt('1000M_thined.obj')*-1\n",
    "X = np.random.random((50,6))\n",
    "scale=1000\n",
    "cmap = plt.cm.get_cmap(\"Spectral\")\n",
    "#cmap=plt.cm.spectral\n",
    "visualize3DData(X,scale,cmap)"
   ]
  },
  {
   "cell_type": "code",
   "execution_count": null,
   "metadata": {},
   "outputs": [],
   "source": []
  }
 ],
 "metadata": {
  "kernelspec": {
   "display_name": "Python 3",
   "language": "python",
   "name": "python3"
  },
  "language_info": {
   "codemirror_mode": {
    "name": "ipython",
    "version": 3
   },
   "file_extension": ".py",
   "mimetype": "text/x-python",
   "name": "python",
   "nbconvert_exporter": "python",
   "pygments_lexer": "ipython3",
   "version": "3.8.2"
  }
 },
 "nbformat": 4,
 "nbformat_minor": 4
}
